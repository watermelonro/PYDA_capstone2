{
 "cells": [
  {
   "cell_type": "code",
   "execution_count": 1,
   "id": "53fd70b4",
   "metadata": {
    "ExecuteTime": {
     "end_time": "2023-11-30T05:26:50.583944Z",
     "start_time": "2023-11-30T05:26:49.264654Z"
    }
   },
   "outputs": [],
   "source": [
    "import pandas as pd \n",
    "import numpy as np\n",
    "import seaborn as sns\n",
    "import matplotlib.pyplot as plt\n",
    "from sklearn.linear_model import LinearRegression, LogisticRegression\n",
    "from sklearn.model_selection import train_test_split\n",
    "from sklearn.metrics import accuracy_score, confusion_matrix\n"
   ]
  },
  {
   "cell_type": "markdown",
   "id": "b42093ed",
   "metadata": {},
   "source": [
    "## 승하차인구수와 공실률의 상관관계 확인"
   ]
  },
  {
   "cell_type": "code",
   "execution_count": 2,
   "id": "72d69cb2",
   "metadata": {
    "ExecuteTime": {
     "end_time": "2023-11-30T05:26:51.089780Z",
     "start_time": "2023-11-30T05:26:50.585958Z"
    }
   },
   "outputs": [],
   "source": [
    "corr_df = pd.read_excel('../data_pre/상관관계_테이블.xlsx') # 데이터 불러오기 "
   ]
  },
  {
   "cell_type": "code",
   "execution_count": 3,
   "id": "64cf1e2e",
   "metadata": {
    "ExecuteTime": {
     "end_time": "2023-11-30T05:26:51.105418Z",
     "start_time": "2023-11-30T05:26:51.091785Z"
    },
    "scrolled": true
   },
   "outputs": [
    {
     "data": {
      "text/html": [
       "<div>\n",
       "<style scoped>\n",
       "    .dataframe tbody tr th:only-of-type {\n",
       "        vertical-align: middle;\n",
       "    }\n",
       "\n",
       "    .dataframe tbody tr th {\n",
       "        vertical-align: top;\n",
       "    }\n",
       "\n",
       "    .dataframe thead th {\n",
       "        text-align: right;\n",
       "    }\n",
       "</style>\n",
       "<table border=\"1\" class=\"dataframe\">\n",
       "  <thead>\n",
       "    <tr style=\"text-align: right;\">\n",
       "      <th></th>\n",
       "      <th>지하철역</th>\n",
       "      <th>환승역수</th>\n",
       "      <th>상가수</th>\n",
       "      <th>사용 상가 수</th>\n",
       "      <th>공실률</th>\n",
       "      <th>공실0/1</th>\n",
       "      <th>승하차인구수</th>\n",
       "    </tr>\n",
       "  </thead>\n",
       "  <tbody>\n",
       "    <tr>\n",
       "      <th>0</th>\n",
       "      <td>동대문</td>\n",
       "      <td>2</td>\n",
       "      <td>14</td>\n",
       "      <td>26</td>\n",
       "      <td>0.0</td>\n",
       "      <td>1</td>\n",
       "      <td>2167063</td>\n",
       "    </tr>\n",
       "    <tr>\n",
       "      <th>1</th>\n",
       "      <td>시청</td>\n",
       "      <td>2</td>\n",
       "      <td>7</td>\n",
       "      <td>7</td>\n",
       "      <td>0.0</td>\n",
       "      <td>1</td>\n",
       "      <td>2721058</td>\n",
       "    </tr>\n",
       "    <tr>\n",
       "      <th>2</th>\n",
       "      <td>구로디지털단지</td>\n",
       "      <td>1</td>\n",
       "      <td>4</td>\n",
       "      <td>4</td>\n",
       "      <td>0.0</td>\n",
       "      <td>1</td>\n",
       "      <td>3486238</td>\n",
       "    </tr>\n",
       "    <tr>\n",
       "      <th>3</th>\n",
       "      <td>낙성대</td>\n",
       "      <td>1</td>\n",
       "      <td>4</td>\n",
       "      <td>4</td>\n",
       "      <td>0.0</td>\n",
       "      <td>1</td>\n",
       "      <td>3255663</td>\n",
       "    </tr>\n",
       "    <tr>\n",
       "      <th>4</th>\n",
       "      <td>문래</td>\n",
       "      <td>1</td>\n",
       "      <td>4</td>\n",
       "      <td>4</td>\n",
       "      <td>0.0</td>\n",
       "      <td>1</td>\n",
       "      <td>1143717</td>\n",
       "    </tr>\n",
       "  </tbody>\n",
       "</table>\n",
       "</div>"
      ],
      "text/plain": [
       "      지하철역  환승역수  상가수  사용 상가 수  공실률  공실0/1   승하차인구수\n",
       "0      동대문     2   14       26  0.0      1  2167063\n",
       "1       시청     2    7        7  0.0      1  2721058\n",
       "2  구로디지털단지     1    4        4  0.0      1  3486238\n",
       "3      낙성대     1    4        4  0.0      1  3255663\n",
       "4       문래     1    4        4  0.0      1  1143717"
      ]
     },
     "execution_count": 3,
     "metadata": {},
     "output_type": "execute_result"
    }
   ],
   "source": [
    "corr_df.head()"
   ]
  },
  {
   "cell_type": "code",
   "execution_count": 4,
   "id": "89513275",
   "metadata": {
    "ExecuteTime": {
     "end_time": "2023-11-30T05:26:51.120900Z",
     "start_time": "2023-11-30T05:26:51.107306Z"
    },
    "scrolled": false
   },
   "outputs": [
    {
     "name": "stdout",
     "output_type": "stream",
     "text": [
      "<class 'pandas.core.frame.DataFrame'>\n",
      "RangeIndex: 35 entries, 0 to 34\n",
      "Data columns (total 7 columns):\n",
      " #   Column   Non-Null Count  Dtype  \n",
      "---  ------   --------------  -----  \n",
      " 0   지하철역     35 non-null     object \n",
      " 1   환승역수     35 non-null     int64  \n",
      " 2   상가수      35 non-null     int64  \n",
      " 3   사용 상가 수  35 non-null     int64  \n",
      " 4   공실률      35 non-null     float64\n",
      " 5   공실0/1    35 non-null     int64  \n",
      " 6   승하차인구수   35 non-null     int64  \n",
      "dtypes: float64(1), int64(5), object(1)\n",
      "memory usage: 2.0+ KB\n"
     ]
    }
   ],
   "source": [
    "corr_df.info()"
   ]
  },
  {
   "cell_type": "code",
   "execution_count": 5,
   "id": "c7bb0e9e",
   "metadata": {
    "ExecuteTime": {
     "end_time": "2023-11-30T05:26:51.135761Z",
     "start_time": "2023-11-30T05:26:51.122897Z"
    },
    "scrolled": true
   },
   "outputs": [
    {
     "data": {
      "text/html": [
       "<div>\n",
       "<style scoped>\n",
       "    .dataframe tbody tr th:only-of-type {\n",
       "        vertical-align: middle;\n",
       "    }\n",
       "\n",
       "    .dataframe tbody tr th {\n",
       "        vertical-align: top;\n",
       "    }\n",
       "\n",
       "    .dataframe thead th {\n",
       "        text-align: right;\n",
       "    }\n",
       "</style>\n",
       "<table border=\"1\" class=\"dataframe\">\n",
       "  <thead>\n",
       "    <tr style=\"text-align: right;\">\n",
       "      <th></th>\n",
       "      <th>환승역수</th>\n",
       "      <th>상가수</th>\n",
       "      <th>사용 상가 수</th>\n",
       "      <th>공실률</th>\n",
       "      <th>공실0/1</th>\n",
       "      <th>승하차인구수</th>\n",
       "    </tr>\n",
       "  </thead>\n",
       "  <tbody>\n",
       "    <tr>\n",
       "      <th>환승역수</th>\n",
       "      <td>1.000000</td>\n",
       "      <td>0.098432</td>\n",
       "      <td>0.687678</td>\n",
       "      <td>-0.220368</td>\n",
       "      <td>0.221163</td>\n",
       "      <td>0.313973</td>\n",
       "    </tr>\n",
       "    <tr>\n",
       "      <th>상가수</th>\n",
       "      <td>0.098432</td>\n",
       "      <td>1.000000</td>\n",
       "      <td>0.461649</td>\n",
       "      <td>0.377981</td>\n",
       "      <td>-0.385291</td>\n",
       "      <td>0.234408</td>\n",
       "    </tr>\n",
       "    <tr>\n",
       "      <th>사용 상가 수</th>\n",
       "      <td>0.687678</td>\n",
       "      <td>0.461649</td>\n",
       "      <td>1.000000</td>\n",
       "      <td>-0.368935</td>\n",
       "      <td>0.361618</td>\n",
       "      <td>0.374655</td>\n",
       "    </tr>\n",
       "    <tr>\n",
       "      <th>공실률</th>\n",
       "      <td>-0.220368</td>\n",
       "      <td>0.377981</td>\n",
       "      <td>-0.368935</td>\n",
       "      <td>1.000000</td>\n",
       "      <td>-0.996404</td>\n",
       "      <td>-0.249009</td>\n",
       "    </tr>\n",
       "    <tr>\n",
       "      <th>공실0/1</th>\n",
       "      <td>0.221163</td>\n",
       "      <td>-0.385291</td>\n",
       "      <td>0.361618</td>\n",
       "      <td>-0.996404</td>\n",
       "      <td>1.000000</td>\n",
       "      <td>0.254991</td>\n",
       "    </tr>\n",
       "    <tr>\n",
       "      <th>승하차인구수</th>\n",
       "      <td>0.313973</td>\n",
       "      <td>0.234408</td>\n",
       "      <td>0.374655</td>\n",
       "      <td>-0.249009</td>\n",
       "      <td>0.254991</td>\n",
       "      <td>1.000000</td>\n",
       "    </tr>\n",
       "  </tbody>\n",
       "</table>\n",
       "</div>"
      ],
      "text/plain": [
       "             환승역수       상가수   사용 상가 수       공실률     공실0/1    승하차인구수\n",
       "환승역수     1.000000  0.098432  0.687678 -0.220368  0.221163  0.313973\n",
       "상가수      0.098432  1.000000  0.461649  0.377981 -0.385291  0.234408\n",
       "사용 상가 수  0.687678  0.461649  1.000000 -0.368935  0.361618  0.374655\n",
       "공실률     -0.220368  0.377981 -0.368935  1.000000 -0.996404 -0.249009\n",
       "공실0/1    0.221163 -0.385291  0.361618 -0.996404  1.000000  0.254991\n",
       "승하차인구수   0.313973  0.234408  0.374655 -0.249009  0.254991  1.000000"
      ]
     },
     "metadata": {},
     "output_type": "display_data"
    }
   ],
   "source": [
    "# 피어슨 상관계수로 상관관계 분석 \n",
    "corr_matrix  = corr_df.drop(columns='지하철역').corr() \n",
    "display(corr_matrix)"
   ]
  },
  {
   "cell_type": "code",
   "execution_count": 6,
   "id": "b6a8d1fd",
   "metadata": {
    "ExecuteTime": {
     "end_time": "2023-11-30T05:26:51.354506Z",
     "start_time": "2023-11-30T05:26:51.138273Z"
    }
   },
   "outputs": [
    {
     "name": "stderr",
     "output_type": "stream",
     "text": [
      "c:\\users\\ahneunjeong\\appdata\\local\\programs\\python\\python39\\lib\\site-packages\\seaborn\\utils.py:80: UserWarning: Glyph 8722 (\\N{MINUS SIGN}) missing from current font.\n",
      "  fig.canvas.draw()\n",
      "c:\\users\\ahneunjeong\\appdata\\local\\programs\\python\\python39\\lib\\site-packages\\IPython\\core\\pylabtools.py:152: UserWarning: Glyph 8722 (\\N{MINUS SIGN}) missing from current font.\n",
      "  fig.canvas.print_figure(bytes_io, **kw)\n"
     ]
    },
    {
     "data": {
      "image/png": "[encoded data removed]",
      "text/plain": [
       "<Figure size 1000x800 with 2 Axes>"
      ]
     },
     "metadata": {},
     "output_type": "display_data"
    }
   ],
   "source": [
    "plt.rc('font', family='Malgun Gothic') # 한글 폰트 설정\n",
    "plt.figure(figsize=(10, 8)) \n",
    "sns.heatmap(corr_matrix, annot=True, cmap='coolwarm', fmt='.2f')  # annot=True: 숫자 표시, cmap: 색상 맵 지정, fmt: 숫자 형식 설정\n",
    "\n",
    "plt.title('Correlation Heatmap')  # 그래프 제목 추가\n",
    "plt.show()"
   ]
  },
  {
   "cell_type": "code",
   "execution_count": 7,
   "id": "a2550a11",
   "metadata": {
    "ExecuteTime": {
     "end_time": "2023-11-30T05:26:51.445599Z",
     "start_time": "2023-11-30T05:26:51.356803Z"
    },
    "scrolled": false
   },
   "outputs": [
    {
     "data": {
      "text/plain": [
       "<matplotlib.collections.PathCollection at 0x1a506833970>"
      ]
     },
     "execution_count": 7,
     "metadata": {},
     "output_type": "execute_result"
    },
    {
     "data": {
      "image/png": "[encoded data removed]",
      "text/plain": [
       "<Figure size 640x480 with 1 Axes>"
      ]
     },
     "metadata": {},
     "output_type": "display_data"
    }
   ],
   "source": [
    "plt.scatter(x=corr_df['승하차인구수'],y=corr_df['공실률']) # 상관관계 시각화 "
   ]
  },
  {
   "cell_type": "markdown",
   "id": "223a62cd",
   "metadata": {},
   "source": [
    "### 결론\n",
    "- 피어슨 상관계수는 -1에서 1 사이의 값을 가지며 1에 가까울수록 양의 상관관계가 강하고, -1에 가까울수록 음의 상관관계가 강하다. 일반적으로 0.1에서 0.3 사이는 약한 상관관계를 가지고 있다고 하는데, 승하차인구수와 공실률은 -0.25로 약한 음의 상관관계를 가지고 있다."
   ]
  },
  {
   "cell_type": "markdown",
   "id": "c223d4cb",
   "metadata": {},
   "source": [
    "## 월 임대료와 공실률의 선형관계 확인"
   ]
  },
  {
   "cell_type": "code",
   "execution_count": 8,
   "id": "78373145",
   "metadata": {
    "ExecuteTime": {
     "end_time": "2023-11-30T05:26:51.461294Z",
     "start_time": "2023-11-30T05:26:51.446637Z"
    }
   },
   "outputs": [],
   "source": [
    "linear_df = pd.read_excel('../data_pre/선형회귀_테이블.xlsx') # 데이터 불러오기 "
   ]
  },
  {
   "cell_type": "code",
   "execution_count": 9,
   "id": "d081f3bd",
   "metadata": {
    "ExecuteTime": {
     "end_time": "2023-11-30T05:26:51.476332Z",
     "start_time": "2023-11-30T05:26:51.464192Z"
    }
   },
   "outputs": [
    {
     "name": "stdout",
     "output_type": "stream",
     "text": [
      "<class 'pandas.core.frame.DataFrame'>\n",
      "RangeIndex: 35 entries, 0 to 34\n",
      "Data columns (total 4 columns):\n",
      " #   Column          Non-Null Count  Dtype  \n",
      "---  ------          --------------  -----  \n",
      " 0   지하철역            35 non-null     object \n",
      " 1   1제곱미터당 평균 월임대료  35 non-null     float64\n",
      " 2   공실률             35 non-null     float64\n",
      " 3   공실0/1           35 non-null     int64  \n",
      "dtypes: float64(2), int64(1), object(1)\n",
      "memory usage: 1.2+ KB\n"
     ]
    }
   ],
   "source": [
    "linear_df.info()"
   ]
  },
  {
   "cell_type": "code",
   "execution_count": 15,
   "id": "058b3310",
   "metadata": {
    "ExecuteTime": {
     "end_time": "2023-11-30T05:26:51.674257Z",
     "start_time": "2023-11-30T05:26:51.660594Z"
    }
   },
   "outputs": [
    {
     "data": {
      "text/html": [
       "<div>\n",
       "<style scoped>\n",
       "    .dataframe tbody tr th:only-of-type {\n",
       "        vertical-align: middle;\n",
       "    }\n",
       "\n",
       "    .dataframe tbody tr th {\n",
       "        vertical-align: top;\n",
       "    }\n",
       "\n",
       "    .dataframe thead th {\n",
       "        text-align: right;\n",
       "    }\n",
       "</style>\n",
       "<table border=\"1\" class=\"dataframe\">\n",
       "  <thead>\n",
       "    <tr style=\"text-align: right;\">\n",
       "      <th></th>\n",
       "      <th>1제곱미터당 평균 월임대료</th>\n",
       "      <th>공실률</th>\n",
       "      <th>공실0/1</th>\n",
       "    </tr>\n",
       "  </thead>\n",
       "  <tbody>\n",
       "    <tr>\n",
       "      <th>1제곱미터당 평균 월임대료</th>\n",
       "      <td>1.000000</td>\n",
       "      <td>0.151423</td>\n",
       "      <td>-0.133985</td>\n",
       "    </tr>\n",
       "    <tr>\n",
       "      <th>공실률</th>\n",
       "      <td>0.151423</td>\n",
       "      <td>1.000000</td>\n",
       "      <td>-0.996404</td>\n",
       "    </tr>\n",
       "    <tr>\n",
       "      <th>공실0/1</th>\n",
       "      <td>-0.133985</td>\n",
       "      <td>-0.996404</td>\n",
       "      <td>1.000000</td>\n",
       "    </tr>\n",
       "  </tbody>\n",
       "</table>\n",
       "</div>"
      ],
      "text/plain": [
       "                1제곱미터당 평균 월임대료       공실률     공실0/1\n",
       "1제곱미터당 평균 월임대료        1.000000  0.151423 -0.133985\n",
       "공실률                   0.151423  1.000000 -0.996404\n",
       "공실0/1                -0.133985 -0.996404  1.000000"
      ]
     },
     "metadata": {},
     "output_type": "display_data"
    }
   ],
   "source": [
    "# 피어슨 상관계수로 상관관계 분석 \n",
    "corr_matrix  = linear_df.drop(columns='지하철역').corr()\n",
    "display(corr_matrix)"
   ]
  },
  {
   "cell_type": "code",
   "execution_count": 16,
   "id": "47cdcd7e",
   "metadata": {
    "ExecuteTime": {
     "end_time": "2023-11-30T05:26:51.796453Z",
     "start_time": "2023-11-30T05:26:51.676250Z"
    }
   },
   "outputs": [
    {
     "name": "stderr",
     "output_type": "stream",
     "text": [
      "c:\\users\\ahneunjeong\\appdata\\local\\programs\\python\\python39\\lib\\site-packages\\seaborn\\utils.py:80: UserWarning: Glyph 8722 (\\N{MINUS SIGN}) missing from current font.\n",
      "  fig.canvas.draw()\n",
      "c:\\users\\ahneunjeong\\appdata\\local\\programs\\python\\python39\\lib\\site-packages\\IPython\\core\\pylabtools.py:152: UserWarning: Glyph 8722 (\\N{MINUS SIGN}) missing from current font.\n",
      "  fig.canvas.print_figure(bytes_io, **kw)\n"
     ]
    },
    {
     "data": {
      "image/png": "[encoded data removed]",
      "text/plain": [
       "<Figure size 1000x800 with 2 Axes>"
      ]
     },
     "metadata": {},
     "output_type": "display_data"
    }
   ],
   "source": [
    "plt.rc('font', family='Malgun Gothic') # 한글 폰트 설정\n",
    "plt.figure(figsize=(10, 8)) \n",
    "sns.heatmap(corr_matrix, annot=True, cmap='coolwarm', fmt='.2f')  # annot=True: 숫자 표시, cmap: 색상 맵 지정, fmt: 숫자 형식 설정\n",
    "\n",
    "plt.title('Correlation Heatmap')  # 그래프 제목 추가\n",
    "plt.show()\n",
    "### 월 임대료와 공실률의 상관관계가 0.15로 매우 낮다 \n"
   ]
  },
  {
   "cell_type": "code",
   "execution_count": 17,
   "id": "bd7f1e13",
   "metadata": {
    "ExecuteTime": {
     "end_time": "2023-11-30T05:26:51.889655Z",
     "start_time": "2023-11-30T05:26:51.797467Z"
    }
   },
   "outputs": [
    {
     "data": {
      "image/png": "[encoded data removed]",
      "text/plain": [
       "<Figure size 640x480 with 1 Axes>"
      ]
     },
     "metadata": {},
     "output_type": "display_data"
    }
   ],
   "source": [
    "sns.scatterplot(data=linear_df, x='1제곱미터당 평균 월임대료', y='공실률', markers='o', color='blue', alpha=0.6) # 상관관계 시각화 \n",
    "plt.title('Scatter Plot') \n",
    "plt.show()"
   ]
  },
  {
   "cell_type": "code",
   "execution_count": 18,
   "id": "74796e7a",
   "metadata": {
    "ExecuteTime": {
     "end_time": "2023-11-30T05:26:51.904644Z",
     "start_time": "2023-11-30T05:26:51.891505Z"
    }
   },
   "outputs": [],
   "source": [
    "X = linear_df['1제곱미터당 평균 월임대료'].to_numpy().reshape(-1,1) #단순 선형회귀라 2차원 배열로 재구성\n",
    "y = linear_df['공실률']"
   ]
  },
  {
   "cell_type": "code",
   "execution_count": 19,
   "id": "bfcf4155",
   "metadata": {
    "ExecuteTime": {
     "end_time": "2023-11-30T05:26:51.919679Z",
     "start_time": "2023-11-30T05:26:51.906646Z"
    }
   },
   "outputs": [],
   "source": [
    "X_train, X_test, y_train, y_test = train_test_split(X, y, test_size=0.2, random_state=1)"
   ]
  },
  {
   "cell_type": "code",
   "execution_count": 20,
   "id": "82cc6127",
   "metadata": {
    "ExecuteTime": {
     "end_time": "2023-11-30T05:26:51.935385Z",
     "start_time": "2023-11-30T05:26:51.921677Z"
    }
   },
   "outputs": [
    {
     "data": {
      "text/plain": [
       "((28, 1), (28,), (7, 1), (7,))"
      ]
     },
     "execution_count": 20,
     "metadata": {},
     "output_type": "execute_result"
    }
   ],
   "source": [
    "X_train.shape, y_train.shape, X_test.shape, y_test.shape # shape 확인 "
   ]
  },
  {
   "cell_type": "code",
   "execution_count": 21,
   "id": "7618c50e",
   "metadata": {
    "ExecuteTime": {
     "end_time": "2023-11-30T05:26:51.950635Z",
     "start_time": "2023-11-30T05:26:51.937382Z"
    }
   },
   "outputs": [],
   "source": [
    "# 선형회귀 모델링 \n",
    "lr = LinearRegression()\n",
    "model = lr.fit(X_train, y_train)\n",
    "pred_test = lr.predict(X_test)"
   ]
  },
  {
   "cell_type": "code",
   "execution_count": 22,
   "id": "c401bb55",
   "metadata": {
    "ExecuteTime": {
     "end_time": "2023-11-30T05:26:51.966538Z",
     "start_time": "2023-11-30T05:26:51.952641Z"
    }
   },
   "outputs": [
    {
     "data": {
      "text/html": [
       "<div>\n",
       "<style scoped>\n",
       "    .dataframe tbody tr th:only-of-type {\n",
       "        vertical-align: middle;\n",
       "    }\n",
       "\n",
       "    .dataframe tbody tr th {\n",
       "        vertical-align: top;\n",
       "    }\n",
       "\n",
       "    .dataframe thead th {\n",
       "        text-align: right;\n",
       "    }\n",
       "</style>\n",
       "<table border=\"1\" class=\"dataframe\">\n",
       "  <thead>\n",
       "    <tr style=\"text-align: right;\">\n",
       "      <th></th>\n",
       "      <th>feature</th>\n",
       "      <th>coefficients</th>\n",
       "    </tr>\n",
       "  </thead>\n",
       "  <tbody>\n",
       "    <tr>\n",
       "      <th>0</th>\n",
       "      <td>1제곱미터당 평균 월임대료</td>\n",
       "      <td>0.000101</td>\n",
       "    </tr>\n",
       "  </tbody>\n",
       "</table>\n",
       "</div>"
      ],
      "text/plain": [
       "          feature  coefficients\n",
       "0  1제곱미터당 평균 월임대료      0.000101"
      ]
     },
     "execution_count": 22,
     "metadata": {},
     "output_type": "execute_result"
    }
   ],
   "source": [
    "pd.DataFrame({'feature': ['1제곱미터당 평균 월임대료'], 'coefficients': lr.coef_}) #회귀계수 확인 "
   ]
  },
  {
   "cell_type": "code",
   "execution_count": 23,
   "id": "becad1b7",
   "metadata": {
    "ExecuteTime": {
     "end_time": "2023-11-30T05:26:52.305793Z",
     "start_time": "2023-11-30T05:26:51.967542Z"
    },
    "scrolled": true
   },
   "outputs": [
    {
     "data": {
      "text/html": [
       "<table class=\"simpletable\">\n",
       "<caption>OLS Regression Results</caption>\n",
       "<tr>\n",
       "  <th>Dep. Variable:</th>           <td>공실률</td>       <th>  R-squared:         </th> <td>   0.079</td>\n",
       "</tr>\n",
       "<tr>\n",
       "  <th>Model:</th>                   <td>OLS</td>       <th>  Adj. R-squared:    </th> <td>   0.044</td>\n",
       "</tr>\n",
       "<tr>\n",
       "  <th>Method:</th>             <td>Least Squares</td>  <th>  F-statistic:       </th> <td>   2.236</td>\n",
       "</tr>\n",
       "<tr>\n",
       "  <th>Date:</th>             <td>Thu, 30 Nov 2023</td> <th>  Prob (F-statistic):</th>  <td> 0.147</td> \n",
       "</tr>\n",
       "<tr>\n",
       "  <th>Time:</th>                 <td>14:26:52</td>     <th>  Log-Likelihood:    </th> <td> -141.38</td>\n",
       "</tr>\n",
       "<tr>\n",
       "  <th>No. Observations:</th>      <td>    28</td>      <th>  AIC:               </th> <td>   286.8</td>\n",
       "</tr>\n",
       "<tr>\n",
       "  <th>Df Residuals:</th>          <td>    26</td>      <th>  BIC:               </th> <td>   289.4</td>\n",
       "</tr>\n",
       "<tr>\n",
       "  <th>Df Model:</th>              <td>     1</td>      <th>                     </th>     <td> </td>   \n",
       "</tr>\n",
       "<tr>\n",
       "  <th>Covariance Type:</th>      <td>nonrobust</td>    <th>                     </th>     <td> </td>   \n",
       "</tr>\n",
       "</table>\n",
       "<table class=\"simpletable\">\n",
       "<tr>\n",
       "    <td></td>       <th>coef</th>     <th>std err</th>      <th>t</th>      <th>P>|t|</th>  <th>[0.025</th>    <th>0.975]</th>  \n",
       "</tr>\n",
       "<tr>\n",
       "  <th>const</th> <td>   11.4327</td> <td>   13.994</td> <td>    0.817</td> <td> 0.421</td> <td>  -17.332</td> <td>   40.198</td>\n",
       "</tr>\n",
       "<tr>\n",
       "  <th>x1</th>    <td>    0.0001</td> <td> 6.77e-05</td> <td>    1.495</td> <td> 0.147</td> <td>-3.79e-05</td> <td>    0.000</td>\n",
       "</tr>\n",
       "</table>\n",
       "<table class=\"simpletable\">\n",
       "<tr>\n",
       "  <th>Omnibus:</th>       <td>11.961</td> <th>  Durbin-Watson:     </th> <td>   2.082</td>\n",
       "</tr>\n",
       "<tr>\n",
       "  <th>Prob(Omnibus):</th> <td> 0.003</td> <th>  Jarque-Bera (JB):  </th> <td>   4.202</td>\n",
       "</tr>\n",
       "<tr>\n",
       "  <th>Skew:</th>          <td> 0.648</td> <th>  Prob(JB):          </th> <td>   0.122</td>\n",
       "</tr>\n",
       "<tr>\n",
       "  <th>Kurtosis:</th>      <td> 1.613</td> <th>  Cond. No.          </th> <td>3.91e+05</td>\n",
       "</tr>\n",
       "</table><br/><br/>Notes:<br/>[1] Standard Errors assume that the covariance matrix of the errors is correctly specified.<br/>[2] The condition number is large, 3.91e+05. This might indicate that there are<br/>strong multicollinearity or other numerical problems."
      ],
      "text/plain": [
       "<class 'statsmodels.iolib.summary.Summary'>\n",
       "\"\"\"\n",
       "                            OLS Regression Results                            \n",
       "==============================================================================\n",
       "Dep. Variable:                    공실률   R-squared:                       0.079\n",
       "Model:                            OLS   Adj. R-squared:                  0.044\n",
       "Method:                 Least Squares   F-statistic:                     2.236\n",
       "Date:                Thu, 30 Nov 2023   Prob (F-statistic):              0.147\n",
       "Time:                        14:26:52   Log-Likelihood:                -141.38\n",
       "No. Observations:                  28   AIC:                             286.8\n",
       "Df Residuals:                      26   BIC:                             289.4\n",
       "Df Model:                           1                                         \n",
       "Covariance Type:            nonrobust                                         \n",
       "==============================================================================\n",
       "                 coef    std err          t      P>|t|      [0.025      0.975]\n",
       "------------------------------------------------------------------------------\n",
       "const         11.4327     13.994      0.817      0.421     -17.332      40.198\n",
       "x1             0.0001   6.77e-05      1.495      0.147   -3.79e-05       0.000\n",
       "==============================================================================\n",
       "Omnibus:                       11.961   Durbin-Watson:                   2.082\n",
       "Prob(Omnibus):                  0.003   Jarque-Bera (JB):                4.202\n",
       "Skew:                           0.648   Prob(JB):                        0.122\n",
       "Kurtosis:                       1.613   Cond. No.                     3.91e+05\n",
       "==============================================================================\n",
       "\n",
       "Notes:\n",
       "[1] Standard Errors assume that the covariance matrix of the errors is correctly specified.\n",
       "[2] The condition number is large, 3.91e+05. This might indicate that there are\n",
       "strong multicollinearity or other numerical problems.\n",
       "\"\"\""
      ]
     },
     "execution_count": 23,
     "metadata": {},
     "output_type": "execute_result"
    }
   ],
   "source": [
    "import statsmodels.api as sm\n",
    "\n",
    "X_train2 = sm.add_constant(X_train)\n",
    "model2 = sm.OLS(y_train, X_train2).fit()\n",
    "model2.summary()"
   ]
  },
  {
   "cell_type": "code",
   "execution_count": 24,
   "id": "b7fce37a",
   "metadata": {
    "ExecuteTime": {
     "end_time": "2023-11-30T05:26:52.321250Z",
     "start_time": "2023-11-30T05:26:52.308298Z"
    }
   },
   "outputs": [
    {
     "name": "stdout",
     "output_type": "stream",
     "text": [
      "0.0791742488967836\n"
     ]
    }
   ],
   "source": [
    "print(model.score(X_train, y_train)) "
   ]
  },
  {
   "cell_type": "markdown",
   "id": "df19d75b",
   "metadata": {
    "ExecuteTime": {
     "end_time": "2023-11-26T08:39:10.319001Z",
     "start_time": "2023-11-26T08:39:10.303180Z"
    }
   },
   "source": [
    "### 결론\n",
    "- 해당 모델은 R-squared가 0.079로 설명력이 거의 없고 컬럼의  p-value가 0.15로 유의한 컬럼이 아니다. \n",
    "- 선형관계를 가지고 있지 않다 "
   ]
  },
  {
   "cell_type": "markdown",
   "id": "fd04ec99",
   "metadata": {},
   "source": [
    "## 로지스틱 회귀분석 "
   ]
  },
  {
   "cell_type": "code",
   "execution_count": 25,
   "id": "c30be6f8",
   "metadata": {
    "ExecuteTime": {
     "end_time": "2023-11-30T05:26:52.352128Z",
     "start_time": "2023-11-30T05:26:52.323186Z"
    }
   },
   "outputs": [],
   "source": [
    "logistic_df = pd.read_excel('../data_pre/로지스틱_테이블.xlsx') # 데이터 불러오기 "
   ]
  },
  {
   "cell_type": "code",
   "execution_count": 26,
   "id": "a384fac8",
   "metadata": {
    "ExecuteTime": {
     "end_time": "2023-11-30T05:26:52.367067Z",
     "start_time": "2023-11-30T05:26:52.354029Z"
    }
   },
   "outputs": [
    {
     "name": "stdout",
     "output_type": "stream",
     "text": [
      "<class 'pandas.core.frame.DataFrame'>\n",
      "RangeIndex: 35 entries, 0 to 34\n",
      "Data columns (total 5 columns):\n",
      " #   Column          Non-Null Count  Dtype  \n",
      "---  ------          --------------  -----  \n",
      " 0   지하철역            35 non-null     object \n",
      " 1   1제곱미터당 평균 월임대료  35 non-null     float64\n",
      " 2   환승역수            35 non-null     int64  \n",
      " 3   공실0/1           35 non-null     int64  \n",
      " 4   승하차인구수          35 non-null     int64  \n",
      "dtypes: float64(1), int64(3), object(1)\n",
      "memory usage: 1.5+ KB\n"
     ]
    }
   ],
   "source": [
    "logistic_df.info() "
   ]
  },
  {
   "cell_type": "code",
   "execution_count": 28,
   "id": "435a617e",
   "metadata": {
    "ExecuteTime": {
     "end_time": "2023-11-30T05:26:52.397918Z",
     "start_time": "2023-11-30T05:26:52.386338Z"
    }
   },
   "outputs": [],
   "source": [
    "Y = logistic_df['공실0/1'] # y 컬럼 \n",
    "X = logistic_df[['승하차인구수','환승역수','1제곱미터당 평균 월임대료']] # x 컬럼 "
   ]
  },
  {
   "cell_type": "code",
   "execution_count": 29,
   "id": "41fd8ef2",
   "metadata": {
    "ExecuteTime": {
     "end_time": "2023-11-30T05:26:52.413513Z",
     "start_time": "2023-11-30T05:26:52.400508Z"
    }
   },
   "outputs": [],
   "source": [
    "X_train, X_test, y_train, y_test = train_test_split(X, Y,test_size=0.2,random_state=10) \n"
   ]
  },
  {
   "cell_type": "code",
   "execution_count": 30,
   "id": "7eb37e8c",
   "metadata": {
    "ExecuteTime": {
     "end_time": "2023-11-30T05:26:52.428434Z",
     "start_time": "2023-11-30T05:26:52.414665Z"
    }
   },
   "outputs": [
    {
     "data": {
      "text/plain": [
       "((28, 3), (28,), (7, 3), (7,))"
      ]
     },
     "execution_count": 30,
     "metadata": {},
     "output_type": "execute_result"
    }
   ],
   "source": [
    "X_train.shape, y_train.shape, X_test.shape, y_test.shape # shape 확인 "
   ]
  },
  {
   "cell_type": "code",
   "execution_count": 31,
   "id": "3d53425e",
   "metadata": {
    "ExecuteTime": {
     "end_time": "2023-11-30T05:26:52.443286Z",
     "start_time": "2023-11-30T05:26:52.429834Z"
    }
   },
   "outputs": [
    {
     "data": {
      "text/html": [
       "<style>#sk-container-id-1 {color: black;background-color: white;}#sk-container-id-1 pre{padding: 0;}#sk-container-id-1 div.sk-toggleable {background-color: white;}#sk-container-id-1 label.sk-toggleable__label {cursor: pointer;display: block;width: 100%;margin-bottom: 0;padding: 0.3em;box-sizing: border-box;text-align: center;}#sk-container-id-1 label.sk-toggleable__label-arrow:before {content: \"▸\";float: left;margin-right: 0.25em;color: #696969;}#sk-container-id-1 label.sk-toggleable__label-arrow:hover:before {color: black;}#sk-container-id-1 div.sk-estimator:hover label.sk-toggleable__label-arrow:before {color: black;}#sk-container-id-1 div.sk-toggleable__content {max-height: 0;max-width: 0;overflow: hidden;text-align: left;background-color: #f0f8ff;}#sk-container-id-1 div.sk-toggleable__content pre {margin: 0.2em;color: black;border-radius: 0.25em;background-color: #f0f8ff;}#sk-container-id-1 input.sk-toggleable__control:checked~div.sk-toggleable__content {max-height: 200px;max-width: 100%;overflow: auto;}#sk-container-id-1 input.sk-toggleable__control:checked~label.sk-toggleable__label-arrow:before {content: \"▾\";}#sk-container-id-1 div.sk-estimator input.sk-toggleable__control:checked~label.sk-toggleable__label {background-color: #d4ebff;}#sk-container-id-1 div.sk-label input.sk-toggleable__control:checked~label.sk-toggleable__label {background-color: #d4ebff;}#sk-container-id-1 input.sk-hidden--visually {border: 0;clip: rect(1px 1px 1px 1px);clip: rect(1px, 1px, 1px, 1px);height: 1px;margin: -1px;overflow: hidden;padding: 0;position: absolute;width: 1px;}#sk-container-id-1 div.sk-estimator {font-family: monospace;background-color: #f0f8ff;border: 1px dotted black;border-radius: 0.25em;box-sizing: border-box;margin-bottom: 0.5em;}#sk-container-id-1 div.sk-estimator:hover {background-color: #d4ebff;}#sk-container-id-1 div.sk-parallel-item::after {content: \"\";width: 100%;border-bottom: 1px solid gray;flex-grow: 1;}#sk-container-id-1 div.sk-label:hover label.sk-toggleable__label {background-color: #d4ebff;}#sk-container-id-1 div.sk-serial::before {content: \"\";position: absolute;border-left: 1px solid gray;box-sizing: border-box;top: 0;bottom: 0;left: 50%;z-index: 0;}#sk-container-id-1 div.sk-serial {display: flex;flex-direction: column;align-items: center;background-color: white;padding-right: 0.2em;padding-left: 0.2em;position: relative;}#sk-container-id-1 div.sk-item {position: relative;z-index: 1;}#sk-container-id-1 div.sk-parallel {display: flex;align-items: stretch;justify-content: center;background-color: white;position: relative;}#sk-container-id-1 div.sk-item::before, #sk-container-id-1 div.sk-parallel-item::before {content: \"\";position: absolute;border-left: 1px solid gray;box-sizing: border-box;top: 0;bottom: 0;left: 50%;z-index: -1;}#sk-container-id-1 div.sk-parallel-item {display: flex;flex-direction: column;z-index: 1;position: relative;background-color: white;}#sk-container-id-1 div.sk-parallel-item:first-child::after {align-self: flex-end;width: 50%;}#sk-container-id-1 div.sk-parallel-item:last-child::after {align-self: flex-start;width: 50%;}#sk-container-id-1 div.sk-parallel-item:only-child::after {width: 0;}#sk-container-id-1 div.sk-dashed-wrapped {border: 1px dashed gray;margin: 0 0.4em 0.5em 0.4em;box-sizing: border-box;padding-bottom: 0.4em;background-color: white;}#sk-container-id-1 div.sk-label label {font-family: monospace;font-weight: bold;display: inline-block;line-height: 1.2em;}#sk-container-id-1 div.sk-label-container {text-align: center;}#sk-container-id-1 div.sk-container {/* jupyter's `normalize.less` sets `[hidden] { display: none; }` but bootstrap.min.css set `[hidden] { display: none !important; }` so we also need the `!important` here to be able to override the default hidden behavior on the sphinx rendered scikit-learn.org. See: https://github.com/scikit-learn/scikit-learn/issues/21755 */display: inline-block !important;position: relative;}#sk-container-id-1 div.sk-text-repr-fallback {display: none;}</style><div id=\"sk-container-id-1\" class=\"sk-top-container\"><div class=\"sk-text-repr-fallback\"><pre>LogisticRegression()</pre><b>In a Jupyter environment, please rerun this cell to show the HTML representation or trust the notebook. <br />On GitHub, the HTML representation is unable to render, please try loading this page with nbviewer.org.</b></div><div class=\"sk-container\" hidden><div class=\"sk-item\"><div class=\"sk-estimator sk-toggleable\"><input class=\"sk-toggleable__control sk-hidden--visually\" id=\"sk-estimator-id-1\" type=\"checkbox\" checked><label for=\"sk-estimator-id-1\" class=\"sk-toggleable__label sk-toggleable__label-arrow\">LogisticRegression</label><div class=\"sk-toggleable__content\"><pre>LogisticRegression()</pre></div></div></div></div></div>"
      ],
      "text/plain": [
       "LogisticRegression()"
      ]
     },
     "execution_count": 31,
     "metadata": {},
     "output_type": "execute_result"
    }
   ],
   "source": [
    "# 로지스틱 회귀 분석 모델링 \n",
    "lo =LogisticRegression()\n",
    "lo.fit(X_train, y_train)"
   ]
  },
  {
   "cell_type": "code",
   "execution_count": 32,
   "id": "333b21e5",
   "metadata": {
    "ExecuteTime": {
     "end_time": "2023-11-30T05:26:52.458492Z",
     "start_time": "2023-11-30T05:26:52.444270Z"
    }
   },
   "outputs": [],
   "source": [
    "pred = lo.predict(X_test) # 예측값 pred에 저장 \n"
   ]
  },
  {
   "cell_type": "code",
   "execution_count": 33,
   "id": "75aab628",
   "metadata": {
    "ExecuteTime": {
     "end_time": "2023-11-30T05:26:52.473518Z",
     "start_time": "2023-11-30T05:26:52.460438Z"
    }
   },
   "outputs": [],
   "source": [
    "col = X.columns"
   ]
  },
  {
   "cell_type": "code",
   "execution_count": 34,
   "id": "92cb1eaa",
   "metadata": {
    "ExecuteTime": {
     "end_time": "2023-11-30T05:26:52.488984Z",
     "start_time": "2023-11-30T05:26:52.474533Z"
    },
    "scrolled": true
   },
   "outputs": [
    {
     "data": {
      "text/html": [
       "<div>\n",
       "<style scoped>\n",
       "    .dataframe tbody tr th:only-of-type {\n",
       "        vertical-align: middle;\n",
       "    }\n",
       "\n",
       "    .dataframe tbody tr th {\n",
       "        vertical-align: top;\n",
       "    }\n",
       "\n",
       "    .dataframe thead th {\n",
       "        text-align: right;\n",
       "    }\n",
       "</style>\n",
       "<table border=\"1\" class=\"dataframe\">\n",
       "  <thead>\n",
       "    <tr style=\"text-align: right;\">\n",
       "      <th></th>\n",
       "      <th>feature</th>\n",
       "      <th>coefficients</th>\n",
       "    </tr>\n",
       "  </thead>\n",
       "  <tbody>\n",
       "    <tr>\n",
       "      <th>0</th>\n",
       "      <td>승하차인구수</td>\n",
       "      <td>6.426286e-07</td>\n",
       "    </tr>\n",
       "    <tr>\n",
       "      <th>1</th>\n",
       "      <td>환승역수</td>\n",
       "      <td>1.747649e-11</td>\n",
       "    </tr>\n",
       "    <tr>\n",
       "      <th>2</th>\n",
       "      <td>1제곱미터당 평균 월임대료</td>\n",
       "      <td>-2.681062e-06</td>\n",
       "    </tr>\n",
       "  </tbody>\n",
       "</table>\n",
       "</div>"
      ],
      "text/plain": [
       "          feature  coefficients\n",
       "0          승하차인구수  6.426286e-07\n",
       "1            환승역수  1.747649e-11\n",
       "2  1제곱미터당 평균 월임대료 -2.681062e-06"
      ]
     },
     "execution_count": 34,
     "metadata": {},
     "output_type": "execute_result"
    }
   ],
   "source": [
    "pd.DataFrame({'feature': col, 'coefficients': lo.coef_[0]}) # 회귀계수 확인 "
   ]
  },
  {
   "cell_type": "code",
   "execution_count": 35,
   "id": "e3f7fe4c",
   "metadata": {
    "ExecuteTime": {
     "end_time": "2023-11-30T05:26:52.518987Z",
     "start_time": "2023-11-30T05:26:52.490869Z"
    },
    "scrolled": true
   },
   "outputs": [
    {
     "data": {
      "text/html": [
       "<table class=\"simpletable\">\n",
       "<caption>OLS Regression Results</caption>\n",
       "<tr>\n",
       "  <th>Dep. Variable:</th>          <td>공실0/1</td>      <th>  R-squared:         </th> <td>   0.078</td>\n",
       "</tr>\n",
       "<tr>\n",
       "  <th>Model:</th>                   <td>OLS</td>       <th>  Adj. R-squared:    </th> <td>  -0.037</td>\n",
       "</tr>\n",
       "<tr>\n",
       "  <th>Method:</th>             <td>Least Squares</td>  <th>  F-statistic:       </th> <td>  0.6805</td>\n",
       "</tr>\n",
       "<tr>\n",
       "  <th>Date:</th>             <td>Thu, 30 Nov 2023</td> <th>  Prob (F-statistic):</th>  <td> 0.573</td> \n",
       "</tr>\n",
       "<tr>\n",
       "  <th>Time:</th>                 <td>14:26:52</td>     <th>  Log-Likelihood:    </th> <td> -18.521</td>\n",
       "</tr>\n",
       "<tr>\n",
       "  <th>No. Observations:</th>      <td>    28</td>      <th>  AIC:               </th> <td>   45.04</td>\n",
       "</tr>\n",
       "<tr>\n",
       "  <th>Df Residuals:</th>          <td>    24</td>      <th>  BIC:               </th> <td>   50.37</td>\n",
       "</tr>\n",
       "<tr>\n",
       "  <th>Df Model:</th>              <td>     3</td>      <th>                     </th>     <td> </td>   \n",
       "</tr>\n",
       "<tr>\n",
       "  <th>Covariance Type:</th>      <td>nonrobust</td>    <th>                     </th>     <td> </td>   \n",
       "</tr>\n",
       "</table>\n",
       "<table class=\"simpletable\">\n",
       "<tr>\n",
       "         <td></td>           <th>coef</th>     <th>std err</th>      <th>t</th>      <th>P>|t|</th>  <th>[0.025</th>    <th>0.975]</th>  \n",
       "</tr>\n",
       "<tr>\n",
       "  <th>const</th>          <td>    0.4210</td> <td>    0.578</td> <td>    0.728</td> <td> 0.473</td> <td>   -0.772</td> <td>    1.614</td>\n",
       "</tr>\n",
       "<tr>\n",
       "  <th>승하차인구수</th>         <td> 4.675e-08</td> <td> 1.35e-07</td> <td>    0.347</td> <td> 0.732</td> <td>-2.32e-07</td> <td> 3.25e-07</td>\n",
       "</tr>\n",
       "<tr>\n",
       "  <th>환승역수</th>           <td>    0.2790</td> <td>    0.562</td> <td>    0.496</td> <td> 0.624</td> <td>   -0.881</td> <td>    1.439</td>\n",
       "</tr>\n",
       "<tr>\n",
       "  <th>1제곱미터당 평균 월임대료</th> <td>-9.857e-07</td> <td> 8.52e-07</td> <td>   -1.156</td> <td> 0.259</td> <td>-2.74e-06</td> <td> 7.73e-07</td>\n",
       "</tr>\n",
       "</table>\n",
       "<table class=\"simpletable\">\n",
       "<tr>\n",
       "  <th>Omnibus:</th>       <td>24.891</td> <th>  Durbin-Watson:     </th> <td>   1.488</td>\n",
       "</tr>\n",
       "<tr>\n",
       "  <th>Prob(Omnibus):</th> <td> 0.000</td> <th>  Jarque-Bera (JB):  </th> <td>   3.972</td>\n",
       "</tr>\n",
       "<tr>\n",
       "  <th>Skew:</th>          <td>-0.429</td> <th>  Prob(JB):          </th> <td>   0.137</td>\n",
       "</tr>\n",
       "<tr>\n",
       "  <th>Kurtosis:</th>      <td> 1.366</td> <th>  Cond. No.          </th> <td>1.16e+07</td>\n",
       "</tr>\n",
       "</table><br/><br/>Notes:<br/>[1] Standard Errors assume that the covariance matrix of the errors is correctly specified.<br/>[2] The condition number is large, 1.16e+07. This might indicate that there are<br/>strong multicollinearity or other numerical problems."
      ],
      "text/plain": [
       "<class 'statsmodels.iolib.summary.Summary'>\n",
       "\"\"\"\n",
       "                            OLS Regression Results                            \n",
       "==============================================================================\n",
       "Dep. Variable:                  공실0/1   R-squared:                       0.078\n",
       "Model:                            OLS   Adj. R-squared:                 -0.037\n",
       "Method:                 Least Squares   F-statistic:                    0.6805\n",
       "Date:                Thu, 30 Nov 2023   Prob (F-statistic):              0.573\n",
       "Time:                        14:26:52   Log-Likelihood:                -18.521\n",
       "No. Observations:                  28   AIC:                             45.04\n",
       "Df Residuals:                      24   BIC:                             50.37\n",
       "Df Model:                           3                                         \n",
       "Covariance Type:            nonrobust                                         \n",
       "==================================================================================\n",
       "                     coef    std err          t      P>|t|      [0.025      0.975]\n",
       "----------------------------------------------------------------------------------\n",
       "const              0.4210      0.578      0.728      0.473      -0.772       1.614\n",
       "승하차인구수          4.675e-08   1.35e-07      0.347      0.732   -2.32e-07    3.25e-07\n",
       "환승역수               0.2790      0.562      0.496      0.624      -0.881       1.439\n",
       "1제곱미터당 평균 월임대료 -9.857e-07   8.52e-07     -1.156      0.259   -2.74e-06    7.73e-07\n",
       "==============================================================================\n",
       "Omnibus:                       24.891   Durbin-Watson:                   1.488\n",
       "Prob(Omnibus):                  0.000   Jarque-Bera (JB):                3.972\n",
       "Skew:                          -0.429   Prob(JB):                        0.137\n",
       "Kurtosis:                       1.366   Cond. No.                     1.16e+07\n",
       "==============================================================================\n",
       "\n",
       "Notes:\n",
       "[1] Standard Errors assume that the covariance matrix of the errors is correctly specified.\n",
       "[2] The condition number is large, 1.16e+07. This might indicate that there are\n",
       "strong multicollinearity or other numerical problems.\n",
       "\"\"\""
      ]
     },
     "execution_count": 35,
     "metadata": {},
     "output_type": "execute_result"
    }
   ],
   "source": [
    "import statsmodels.api as sm\n",
    "\n",
    "X_train2 = sm.add_constant(X_train)\n",
    "model2 = sm.OLS(y_train, X_train2).fit()\n",
    "model2.summary()"
   ]
  },
  {
   "cell_type": "markdown",
   "id": "9bde42ab",
   "metadata": {},
   "source": [
    "### 결론\n",
    "- 데이터의 개수가 너무 적어 유의미하게 예측하는데에 한계가 있다.\n",
    "- 해당 모델은 r-squared가 0.078밖에 되지 않아 설명력이 매우 낫고 각 칼럼의 p-value도 0.05보다 작지 않기에 유의한 컬럼들이 아니다. "
   ]
  },
  {
   "cell_type": "code",
   "execution_count": null,
   "id": "ad2f224d",
   "metadata": {},
   "outputs": [],
   "source": []
  }
 ],
 "metadata": {
  "kernelspec": {
   "display_name": "Python 3 (ipykernel)",
   "language": "python",
   "name": "python3"
  },
  "language_info": {
   "codemirror_mode": {
    "name": "ipython",
    "version": 3
   },
   "file_extension": ".py",
   "mimetype": "text/x-python",
   "name": "python",
   "nbconvert_exporter": "python",
   "pygments_lexer": "ipython3",
   "version": "3.9.0"
  },
  "toc": {
   "base_numbering": 1,
   "nav_menu": {},
   "number_sections": true,
   "sideBar": true,
   "skip_h1_title": false,
   "title_cell": "Table of Contents",
   "title_sidebar": "Contents",
   "toc_cell": false,
   "toc_position": {},
   "toc_section_display": true,
   "toc_window_display": false
  }
 },
 "nbformat": 4,
 "nbformat_minor": 5
}
